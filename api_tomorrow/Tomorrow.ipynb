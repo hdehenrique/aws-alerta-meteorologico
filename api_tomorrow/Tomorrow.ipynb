{
  "cells": [
    {
      "cell_type": "code",
      "execution_count": 9,
      "metadata": {
        "id": "0foCUMv7aM8m"
      },
      "outputs": [],
      "source": [
        "import json\n",
        "import requests"
      ]
    },
    {
      "cell_type": "code",
      "execution_count": null,
      "metadata": {
        "id": "wOf3qn5HaOxT"
      },
      "outputs": [],
      "source": [
        "latitude = -23.6751635\n",
        "longitude =  -46.6465928\n",
        "TOMORROW_API_KEY = 'cEgoUwY5fEqkzJzYDO9AEFzNajNr1F5i'\n",
        "url = f\"https://api.tomorrow.io/v4/weather/realtime?location={latitude},{longitude}&apikey={TOMORROW_API_KEY}\""
      ]
    },
    {
      "cell_type": "code",
      "execution_count": 11,
      "metadata": {
        "colab": {
          "base_uri": "https://localhost:8080/"
        },
        "id": "f8UApuMtjuMM",
        "outputId": "29aada44-4225-4598-e738-ddde83e93fc4"
      },
      "outputs": [
        {
          "name": "stdout",
          "output_type": "stream",
          "text": [
            "{\n",
            "    \"data\": {\n",
            "        \"time\": \"2025-06-19T03:16:00Z\",\n",
            "        \"values\": {\n",
            "            \"altimeterSetting\": 1019.24,\n",
            "            \"cloudBase\": 0,\n",
            "            \"cloudCeiling\": 0,\n",
            "            \"cloudCover\": 88,\n",
            "            \"dewPoint\": 17.8,\n",
            "            \"freezingRainIntensity\": 0,\n",
            "            \"humidity\": 97,\n",
            "            \"precipitationProbability\": 100,\n",
            "            \"pressureSeaLevel\": 1019.36,\n",
            "            \"pressureSurfaceLevel\": 1015.62,\n",
            "            \"rainIntensity\": 4.01,\n",
            "            \"sleetIntensity\": 0,\n",
            "            \"snowIntensity\": 0,\n",
            "            \"temperature\": 18.3,\n",
            "            \"temperatureApparent\": 18.3,\n",
            "            \"uvHealthConcern\": 0,\n",
            "            \"uvIndex\": 0,\n",
            "            \"visibility\": 1.74,\n",
            "            \"weatherCode\": 4001,\n",
            "            \"windDirection\": 171,\n",
            "            \"windGust\": 4.3,\n",
            "            \"windSpeed\": 1.5\n",
            "        }\n",
            "    },\n",
            "    \"location\": {\n",
            "        \"lat\": -29.6846,\n",
            "        \"lon\": -51.1419\n",
            "    }\n",
            "}\n"
          ]
        }
      ],
      "source": [
        "headers = {\"accept\": \"application/json\"}\n",
        "response = requests.get(url, headers=headers)\n",
        "\n",
        "if response.status_code == 200:\n",
        "    data = response.json()\n",
        "    print(json.dumps(data, indent=4))\n",
        "else:\n",
        "    print(f'Erro na requisição: {response.status_code}, mensagem: {response.json().get(\"message\", \"\")}')\n"
      ]
    },
    {
      "cell_type": "code",
      "execution_count": null,
      "metadata": {
        "id": "gaF9o3AMlwGC"
      },
      "outputs": [],
      "source": []
    }
  ],
  "metadata": {
    "colab": {
      "provenance": []
    },
    "kernelspec": {
      "display_name": "Python 3",
      "name": "python3"
    },
    "language_info": {
      "codemirror_mode": {
        "name": "ipython",
        "version": 3
      },
      "file_extension": ".py",
      "mimetype": "text/x-python",
      "name": "python",
      "nbconvert_exporter": "python",
      "pygments_lexer": "ipython3",
      "version": "3.9.0"
    }
  },
  "nbformat": 4,
  "nbformat_minor": 0
}
